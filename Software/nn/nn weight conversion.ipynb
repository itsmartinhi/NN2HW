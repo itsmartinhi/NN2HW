{
 "cells": [
  {
   "cell_type": "code",
   "execution_count": 188,
   "metadata": {},
   "outputs": [],
   "source": [
    "import numpy as np\n",
    "import tensorflow as tf\n",
    "from tensorflow.keras.datasets import mnist\n",
    "from tensorflow.keras.utils import to_categorical"
   ]
  },
  {
   "cell_type": "markdown",
   "metadata": {},
   "source": [
    "### Load model and data"
   ]
  },
  {
   "cell_type": "code",
   "execution_count": 189,
   "metadata": {},
   "outputs": [],
   "source": [
    "tf.keras.datasets.mnist.load_data(path=\"mnist.npz\")\n",
    "(x_train, y_train), (x_test, y_test) = mnist.load_data()\n",
    "# Reshape\n",
    "x_test = x_test.reshape(10000,784)\n",
    "org_x_test = x_test/255\n",
    "# One Hot Encoding\n",
    "y_test_1hot = np.array(to_categorical(y_test, 10), dtype=np.uint8)\n",
    "ref_model = tf.keras.models.load_model('saved_model/nn')"
   ]
  },
  {
   "cell_type": "markdown",
   "metadata": {},
   "source": [
    "### Convert weights, input to maximum uint8 range"
   ]
  },
  {
   "cell_type": "code",
   "execution_count": 190,
   "metadata": {},
   "outputs": [],
   "source": [
    "def convert_to_max_uint8(v):\n",
    "    # Normalise\n",
    "    vmin = np.min(v)\n",
    "    vmax = np.max(v)\n",
    "    v = (v-vmin)/(vmax-vmin)\n",
    "    # Use maximal uint8 range\n",
    "    v = v * 255\n",
    "    return np.array(v, dtype=np.float32)\n",
    "      \n",
    "# Stack: optional\n",
    "weights = ref_model.layers[0].weights[0].numpy()\n",
    "bias = ref_model.layers[0].bias.numpy()\n",
    "weights = np.vstack((bias, weights))\n",
    "weights_org = weights\n",
    "\n",
    "# Convert\n",
    "conv_weights = convert_to_max_uint8(weights)\n",
    "conv_x_test = convert_to_max_uint8(x_test)"
   ]
  },
  {
   "cell_type": "code",
   "execution_count": 191,
   "metadata": {},
   "outputs": [
    {
     "name": "stdout",
     "output_type": "stream",
     "text": [
      "313/313 [==============================] - 2s 6ms/step - loss: 0.2805 - acc: 0.9226\n",
      "Evaluation auf den Testdaten:\n",
      "\n",
      "Loss = 0.281\n",
      "Accuracy = 0.923\n"
     ]
    }
   ],
   "source": [
    "loss, acc = ref_model.evaluate(org_x_test, y_test_1hot)\n",
    "print(f\"Evaluation auf den Testdaten:\\n\\nLoss = {loss:.3f}\\nAccuracy = {acc:.3f}\")"
   ]
  },
  {
   "cell_type": "markdown",
   "metadata": {},
   "source": [
    "### Test conversion error rate"
   ]
  },
  {
   "cell_type": "code",
   "execution_count": 192,
   "metadata": {},
   "outputs": [],
   "source": [
    "def run_model(x, w):\n",
    "    x = np.append([255],x)          # 255 for bias cause 1 resembles 255 in uint max scale\n",
    "    return  np.argmax(np.dot(x,w))  # ! return value is uint64 in size"
   ]
  },
  {
   "cell_type": "code",
   "execution_count": 193,
   "metadata": {},
   "outputs": [
    {
     "name": "stdout",
     "output_type": "stream",
     "text": [
      "313/313 [==============================] - 2s 5ms/step\n",
      "Conversion Accuracy: 0.9223 \n",
      "Original Accuracy: 0.9226 \n",
      "Conversion Success: 0.9994\n"
     ]
    }
   ],
   "source": [
    "length = len(x_test)\n",
    "org_acc_score = 0\n",
    "conv_acc_score = 0\n",
    "conv_score = 0\n",
    "preds = ref_model.predict(org_x_test)\n",
    "for i in range(length): \n",
    "    pred1 = run_model(conv_x_test[i], conv_weights)\n",
    "    pred2 = np.argmax(preds[i]) \n",
    "    if pred1 == np.argmax(y_test_1hot[i]): \n",
    "        conv_acc_score += 1\n",
    "    if pred2 == np.argmax(y_test_1hot[i]): \n",
    "        org_acc_score += 1\n",
    "    if pred1 == pred2:\n",
    "        conv_score +=1\n",
    "\n",
    "conv_acc = conv_acc_score/length\n",
    "org_acc = org_acc_score/length\n",
    "conv_score = conv_score/length\n",
    "print(f\"Conversion Accuracy: {conv_acc} \\nOriginal Accuracy: {org_acc} \\nConversion Success: {conv_score}\")    "
   ]
  }
 ],
 "metadata": {
  "kernelspec": {
   "display_name": "Python 3",
   "language": "python",
   "name": "python3"
  },
  "language_info": {
   "codemirror_mode": {
    "name": "ipython",
    "version": 3
   },
   "file_extension": ".py",
   "mimetype": "text/x-python",
   "name": "python",
   "nbconvert_exporter": "python",
   "pygments_lexer": "ipython3",
   "version": "3.8.10"
  }
 },
 "nbformat": 4,
 "nbformat_minor": 2
}
