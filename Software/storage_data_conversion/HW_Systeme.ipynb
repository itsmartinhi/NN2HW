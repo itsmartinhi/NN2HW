{
  "cells": [
    {
      "cell_type": "code",
      "execution_count": 1,
      "metadata": {
        "id": "sgVZW-Hh1QxT"
      },
      "outputs": [
        {
          "name": "stderr",
          "output_type": "stream",
          "text": [
            "2022-07-02 15:59:30.786364: W tensorflow/stream_executor/platform/default/dso_loader.cc:64] Could not load dynamic library 'libcudart.so.11.0'; dlerror: libcudart.so.11.0: cannot open shared object file: No such file or directory\n",
            "2022-07-02 15:59:30.786421: I tensorflow/stream_executor/cuda/cudart_stub.cc:29] Ignore above cudart dlerror if you do not have a GPU set up on your machine.\n"
          ]
        }
      ],
      "source": [
        "import numpy as np\n",
        "import tensorflow as tf\n",
        "import json\n",
        "import math\n",
        "from tensorflow.keras.datasets import mnist\n",
        "from tensorflow.keras.utils import to_categorical"
      ]
    },
    {
      "cell_type": "code",
      "execution_count": 2,
      "metadata": {
        "colab": {
          "base_uri": "https://localhost:8080/"
        },
        "id": "09gb2Akl7jxz",
        "outputId": "93c5f297-4671-46c2-e1ea-2adabc8eba7c"
      },
      "outputs": [],
      "source": [
        "tf.keras.datasets.mnist.load_data(path=\"mnist.npz\")\n",
        "(x_train, y_train), (x_test, y_test) = mnist.load_data()\n",
        "# Reshape\n",
        "x_test = x_test.reshape(10000,784)\n",
        "org_x_test = x_test/255\n",
        "# One Hot Encoding\n",
        "y_test_1hot = np.array(to_categorical(y_test, 10), dtype=np.uint8)\n",
        "# ref_model = tf.keras.models.load_model('saved_model/nn')"
      ]
    },
    {
      "cell_type": "code",
      "execution_count": 3,
      "metadata": {
        "id": "I_2z3mJn0SXb"
      },
      "outputs": [
        {
          "name": "stderr",
          "output_type": "stream",
          "text": [
            "2022-07-02 15:59:33.181147: I tensorflow/stream_executor/cuda/cuda_gpu_executor.cc:961] could not open file to read NUMA node: /sys/bus/pci/devices/0000:09:00.0/numa_node\n",
            "Your kernel may have been built without NUMA support.\n",
            "2022-07-02 15:59:33.181448: W tensorflow/stream_executor/platform/default/dso_loader.cc:64] Could not load dynamic library 'libcudart.so.11.0'; dlerror: libcudart.so.11.0: cannot open shared object file: No such file or directory\n",
            "2022-07-02 15:59:33.181545: W tensorflow/stream_executor/platform/default/dso_loader.cc:64] Could not load dynamic library 'libcublas.so.11'; dlerror: libcublas.so.11: cannot open shared object file: No such file or directory\n",
            "2022-07-02 15:59:33.181614: W tensorflow/stream_executor/platform/default/dso_loader.cc:64] Could not load dynamic library 'libcublasLt.so.11'; dlerror: libcublasLt.so.11: cannot open shared object file: No such file or directory\n",
            "2022-07-02 15:59:33.181706: W tensorflow/stream_executor/platform/default/dso_loader.cc:64] Could not load dynamic library 'libcufft.so.10'; dlerror: libcufft.so.10: cannot open shared object file: No such file or directory\n",
            "2022-07-02 15:59:33.181864: W tensorflow/stream_executor/platform/default/dso_loader.cc:64] Could not load dynamic library 'libcurand.so.10'; dlerror: libcurand.so.10: cannot open shared object file: No such file or directory\n",
            "2022-07-02 15:59:33.181955: W tensorflow/stream_executor/platform/default/dso_loader.cc:64] Could not load dynamic library 'libcusolver.so.11'; dlerror: libcusolver.so.11: cannot open shared object file: No such file or directory\n",
            "2022-07-02 15:59:33.181991: W tensorflow/stream_executor/platform/default/dso_loader.cc:64] Could not load dynamic library 'libcusparse.so.11'; dlerror: libcusparse.so.11: cannot open shared object file: No such file or directory\n",
            "2022-07-02 15:59:33.182089: W tensorflow/stream_executor/platform/default/dso_loader.cc:64] Could not load dynamic library 'libcudnn.so.8'; dlerror: libcudnn.so.8: cannot open shared object file: No such file or directory\n",
            "2022-07-02 15:59:33.182098: W tensorflow/core/common_runtime/gpu/gpu_device.cc:1850] Cannot dlopen some GPU libraries. Please make sure the missing libraries mentioned above are installed properly if you would like to use GPU. Follow the guide at https://www.tensorflow.org/install/gpu for how to download and setup the required libraries for your platform.\n",
            "Skipping registering GPU devices...\n",
            "2022-07-02 15:59:33.182768: I tensorflow/core/platform/cpu_feature_guard.cc:193] This TensorFlow binary is optimized with oneAPI Deep Neural Network Library (oneDNN) to use the following CPU instructions in performance-critical operations:  AVX2 FMA\n",
            "To enable them in other operations, rebuild TensorFlow with the appropriate compiler flags.\n"
          ]
        }
      ],
      "source": [
        "ref_model = tf.keras.models.load_model(\"../nn/saved_model/nn\")"
      ]
    },
    {
      "cell_type": "code",
      "execution_count": 4,
      "metadata": {
        "id": "xDFhC0R51P65"
      },
      "outputs": [],
      "source": [
        "def convert_vector_to_uint(v, bitlength):\n",
        "    maxint = math.pow(2, bitlength) - 1\n",
        "    # Normalise\n",
        "    vmin = np.min(v)\n",
        "    vmax = np.max(v)\n",
        "    v = (v-vmin)/(vmax-vmin)\n",
        "    # Use maximal uint8 range\n",
        "    v = v * maxint\n",
        "    return np.array(v, dtype=np.uint8)\n",
        "\n",
        "# Stack: optional\n",
        "weights = ref_model.layers[0].weights[0].numpy()\n",
        "bias = ref_model.layers[0].bias.numpy()\n",
        "weights = np.vstack((bias, weights))\n",
        "weights_org = weights\n",
        "\n",
        "# Convert\n",
        "weight_bitlength = 8\n",
        "conv_x_bitlength = 3\n",
        "conv_weights = convert_vector_to_uint(weights, weight_bitlength)\n",
        "conv_x_test = convert_vector_to_uint(x_test, conv_x_bitlength)"
      ]
    },
    {
      "cell_type": "code",
      "execution_count": 5,
      "metadata": {
        "colab": {
          "base_uri": "https://localhost:8080/"
        },
        "id": "_24VvKII3z_O",
        "outputId": "426933dd-fe4b-41d6-dea0-7986760e6f76"
      },
      "outputs": [
        {
          "name": "stdout",
          "output_type": "stream",
          "text": [
            "313/313 [==============================] - 1s 4ms/step - loss: 0.2805 - acc: 0.9226\n",
            "Evaluation auf den Testdaten:\n",
            "\n",
            "Loss = 0.281\n",
            "Accuracy = 0.923\n"
          ]
        }
      ],
      "source": [
        "loss, acc = ref_model.evaluate(org_x_test, y_test_1hot)\n",
        "print(f\"Evaluation auf den Testdaten:\\n\\nLoss = {loss:.3f}\\nAccuracy = {acc:.3f}\")"
      ]
    },
    {
      "cell_type": "code",
      "execution_count": 6,
      "metadata": {
        "colab": {
          "base_uri": "https://localhost:8080/"
        },
        "id": "9K3r6av6Hp2h",
        "outputId": "d334bc89-0623-4751-abe9-d92c1b2a5e27"
      },
      "outputs": [
        {
          "data": {
            "text/plain": [
              "7"
            ]
          },
          "execution_count": 6,
          "metadata": {},
          "output_type": "execute_result"
        }
      ],
      "source": [
        "max_value = 2 ** conv_x_bitlength - 1 # 2^4 in this case equals 16, so we got a range from 0 - 15\n",
        "max_value"
      ]
    },
    {
      "cell_type": "code",
      "execution_count": 7,
      "metadata": {
        "id": "izt9LH1f6KM9"
      },
      "outputs": [],
      "source": [
        "def run_model(x, w):\n",
        "    x = np.append([max_value], x) # 255 for bias cause 1 resembles 255 in uint max scale\n",
        "    return np.dot(x,w)  # ! return value is uint64 in size"
      ]
    },
    {
      "cell_type": "code",
      "execution_count": 27,
      "metadata": {
        "colab": {
          "base_uri": "https://localhost:8080/",
          "height": 1000
        },
        "id": "Zz9Q2B4p3n_x",
        "outputId": "93b7fd8f-9fad-4ae4-a1a4-199380ff7abc"
      },
      "outputs": [
        {
          "name": "stdout",
          "output_type": "stream",
          "text": [
            "313/313 [==============================] - 1s 4ms/step\n",
            "Conversion Accuracy: 0.9178 \n",
            "Original Accuracy: 0.9226 \n",
            "Conversion Success: 0.9839\n"
          ]
        }
      ],
      "source": [
        "length = len(x_test)\n",
        "org_acc_score = 0\n",
        "conv_acc_score = 0\n",
        "conv_score = 0\n",
        "preds = ref_model.predict(org_x_test)\n",
        "\n",
        "original_predictions = []\n",
        "original_predictions_raw = []\n",
        "\n",
        "converted_predictions = []\n",
        "converted_predictions_raw = []\n",
        "\n",
        "for i in range(length): \n",
        "\n",
        "    # TODO: print a confusion matrix\n",
        "    converted_prediction_raw = run_model(conv_x_test[i], conv_weights).tolist()\n",
        "    converted_prediction = int(np.argmax(converted_prediction_raw))\n",
        "\n",
        "    original_prediction_raw = preds[i].tolist()\n",
        "    original_prediction = int(np.argmax(original_prediction_raw))\n",
        "\n",
        "    converted_predictions_raw.append(converted_prediction_raw)\n",
        "    converted_predictions.append(converted_prediction)\n",
        "    \n",
        "    original_predictions_raw.append(original_prediction_raw)\n",
        "    original_predictions.append(original_prediction)\n",
        "\n",
        "    pred1 = converted_prediction\n",
        "    pred2 = original_prediction\n",
        "\n",
        "    if pred1 == np.argmax(y_test_1hot[i]): \n",
        "        conv_acc_score += 1\n",
        "    if pred2 == np.argmax(y_test_1hot[i]): \n",
        "        org_acc_score += 1\n",
        "    if pred1 == pred2:\n",
        "        conv_score +=1\n",
        "\n",
        "conv_acc = conv_acc_score/length\n",
        "org_acc = org_acc_score/length\n",
        "conv_score = conv_score/length\n",
        "print(f\"Conversion Accuracy: {conv_acc} \\nOriginal Accuracy: {org_acc} \\nConversion Success: {conv_score}\") "
      ]
    },
    {
      "cell_type": "code",
      "execution_count": 9,
      "metadata": {
        "id": "vnLmkWMr6eIL"
      },
      "outputs": [],
      "source": [
        "conv_x_rev = np.flip(conv_x_test, axis=1)\n",
        "conv_weights_rev = np.flip(conv_weights, axis=0)"
      ]
    },
    {
      "cell_type": "code",
      "execution_count": 31,
      "metadata": {},
      "outputs": [
        {
          "data": {
            "text/plain": [
              "(785, 10)"
            ]
          },
          "execution_count": 31,
          "metadata": {},
          "output_type": "execute_result"
        }
      ],
      "source": [
        "conv_weights_rev.shape"
      ]
    },
    {
      "cell_type": "code",
      "execution_count": 10,
      "metadata": {
        "colab": {
          "base_uri": "https://localhost:8080/"
        },
        "id": "2ti014xF8MAA",
        "outputId": "51e5e7f5-bf9b-4404-eff9-01b957b72d5b"
      },
      "outputs": [
        {
          "data": {
            "text/plain": [
              "array([6, 5, 4, ..., 1, 2, 7], dtype=uint8)"
            ]
          },
          "execution_count": 10,
          "metadata": {},
          "output_type": "execute_result"
        }
      ],
      "source": [
        "x_label_rev = np.flip(y_test, axis=0)\n",
        "x_label_rev"
      ]
    },
    {
      "cell_type": "code",
      "execution_count": 11,
      "metadata": {
        "id": "Ti2O8Cmm_sqf"
      },
      "outputs": [],
      "source": [
        "TEST_INDEX = 5"
      ]
    },
    {
      "cell_type": "code",
      "execution_count": 12,
      "metadata": {
        "colab": {
          "base_uri": "https://localhost:8080/"
        },
        "id": "H12YEN2H82tx",
        "outputId": "00470bf4-2359-42a6-fd8d-2af28d366f53"
      },
      "outputs": [
        {
          "data": {
            "text/plain": [
              "1"
            ]
          },
          "execution_count": 12,
          "metadata": {},
          "output_type": "execute_result"
        }
      ],
      "source": [
        "x_label_rev[TEST_INDEX]"
      ]
    },
    {
      "cell_type": "code",
      "execution_count": 13,
      "metadata": {
        "colab": {
          "base_uri": "https://localhost:8080/"
        },
        "id": "2J1-wjHk9dK7",
        "outputId": "2ea317a6-730e-4b99-f833-1784a4c0f4aa"
      },
      "outputs": [
        {
          "name": "stdout",
          "output_type": "stream",
          "text": [
            "1/1 [==============================] - 0s 22ms/step\n"
          ]
        },
        {
          "data": {
            "text/plain": [
              "array([[2.081e-03, 5.254e-01, 1.349e-01, 1.637e-02, 1.192e-07, 1.811e-02,\n",
              "        9.058e-02, 1.192e-07, 2.123e-01, 1.352e-04]], dtype=float16)"
            ]
          },
          "execution_count": 13,
          "metadata": {},
          "output_type": "execute_result"
        }
      ],
      "source": [
        "result = ref_model.predict(np.array([np.flip(org_x_test, axis=1)[TEST_INDEX]]))\n",
        "result"
      ]
    },
    {
      "cell_type": "code",
      "execution_count": 14,
      "metadata": {
        "colab": {
          "base_uri": "https://localhost:8080/"
        },
        "id": "1eFmoZvp-x4M",
        "outputId": "969fa55b-896d-4547-ccba-c5a304771b25"
      },
      "outputs": [
        {
          "data": {
            "text/plain": [
              "0.5254"
            ]
          },
          "execution_count": 14,
          "metadata": {},
          "output_type": "execute_result"
        }
      ],
      "source": [
        "result.max()"
      ]
    },
    {
      "cell_type": "code",
      "execution_count": 15,
      "metadata": {
        "colab": {
          "base_uri": "https://localhost:8080/"
        },
        "id": "5vHSthpL9-vm",
        "outputId": "22619c87-418a-4735-ee32-0ff93511443d"
      },
      "outputs": [
        {
          "data": {
            "text/plain": [
              "array([0.        , 0.        , 0.        , 0.        , 0.        ,\n",
              "       0.45098039, 0.99607843, 0.76078431, 0.        , 0.        ])"
            ]
          },
          "execution_count": 15,
          "metadata": {},
          "output_type": "execute_result"
        }
      ],
      "source": [
        "np.flip(org_x_test, axis=1)[42][90:100]"
      ]
    },
    {
      "cell_type": "code",
      "execution_count": 16,
      "metadata": {
        "colab": {
          "base_uri": "https://localhost:8080/"
        },
        "id": "GUx2Z87I9BHJ",
        "outputId": "33791a9e-9f1e-4a43-bb43-dc847a8afc97"
      },
      "outputs": [
        {
          "data": {
            "text/plain": [
              "array([0, 0, 0, 0, 0, 3, 6, 5, 0, 0], dtype=uint8)"
            ]
          },
          "execution_count": 16,
          "metadata": {},
          "output_type": "execute_result"
        }
      ],
      "source": [
        "conv_x_rev[42][90:100]"
      ]
    },
    {
      "cell_type": "code",
      "execution_count": 29,
      "metadata": {
        "colab": {
          "base_uri": "https://localhost:8080/",
          "height": 360
        },
        "id": "sWGs3wjy6kQQ",
        "outputId": "7df79571-d016-4f6a-ff9e-bfda11162c44"
      },
      "outputs": [],
      "source": [
        "data  = {\n",
        "    'meta': {\n",
        "        'conversion accuracy': conv_acc,\n",
        "        'original accuracy': org_acc,\n",
        "        'conversion error rate': conv_score,\n",
        "        'weights bitlength': weight_bitlength,\n",
        "        'inputs bitlength': conv_x_bitlength\n",
        "    },\n",
        "    'weights': conv_weights.tolist(),\n",
        "    'inputs': conv_x_test.tolist(),\n",
        "    \"label\": y_test.tolist(),\n",
        "    \"predictions\": {\n",
        "        \"original\": original_predictions,\n",
        "        \"original_raw\": original_predictions_raw,\n",
        "        \"converted\": converted_predictions,\n",
        "        \"converted_raw\": converted_predictions_raw,\n",
        "    }\n",
        "}\n",
        "\n",
        "with open('model_data.json', 'w') as f:\n",
        "    json.dump(data, f)"
      ]
    }
  ],
  "metadata": {
    "colab": {
      "collapsed_sections": [],
      "name": "HW-Systeme.ipynb",
      "provenance": []
    },
    "kernelspec": {
      "display_name": "Python 3.10.4 ('venv': venv)",
      "language": "python",
      "name": "python3"
    },
    "language_info": {
      "codemirror_mode": {
        "name": "ipython",
        "version": 3
      },
      "file_extension": ".py",
      "mimetype": "text/x-python",
      "name": "python",
      "nbconvert_exporter": "python",
      "pygments_lexer": "ipython3",
      "version": "3.10.4"
    },
    "vscode": {
      "interpreter": {
        "hash": "e3a24743610223e03b77f36b95c948ed057bd02296c94ad8418a128de92a51aa"
      }
    }
  },
  "nbformat": 4,
  "nbformat_minor": 0
}
