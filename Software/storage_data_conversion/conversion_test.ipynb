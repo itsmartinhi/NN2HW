{
 "cells": [
  {
   "cell_type": "code",
   "execution_count": 1,
   "metadata": {},
   "outputs": [],
   "source": [
    "import json\n",
    "import numpy as np"
   ]
  },
  {
   "cell_type": "code",
   "execution_count": 3,
   "metadata": {},
   "outputs": [],
   "source": [
    "REL_PATH_TO_NN_DATA = \"../nn/data.json\""
   ]
  },
  {
   "cell_type": "code",
   "execution_count": 4,
   "metadata": {},
   "outputs": [],
   "source": [
    "with open(REL_PATH_TO_NN_DATA, 'r') as f:\n",
    "    data = json.load(f)"
   ]
  },
  {
   "cell_type": "code",
   "execution_count": 5,
   "metadata": {},
   "outputs": [
    {
     "data": {
      "text/plain": [
       "(10, 785)"
      ]
     },
     "execution_count": 5,
     "metadata": {},
     "output_type": "execute_result"
    }
   ],
   "source": [
    "weights_list = np.array(data.get(\"weights\")).T\n",
    "weights_list.shape"
   ]
  },
  {
   "cell_type": "code",
   "execution_count": 6,
   "metadata": {},
   "outputs": [
    {
     "data": {
      "text/plain": [
       "(10000, 784)"
      ]
     },
     "execution_count": 6,
     "metadata": {},
     "output_type": "execute_result"
    }
   ],
   "source": [
    "inputs_list = np.array(data.get(\"inputs\"))\n",
    "inputs_list.shape"
   ]
  },
  {
   "cell_type": "code",
   "execution_count": 7,
   "metadata": {},
   "outputs": [
    {
     "data": {
      "text/plain": [
       "'01111011'"
      ]
     },
     "execution_count": 7,
     "metadata": {},
     "output_type": "execute_result"
    }
   ],
   "source": [
    "format(123, \"b\").zfill(8)"
   ]
  },
  {
   "cell_type": "code",
   "execution_count": 8,
   "metadata": {},
   "outputs": [
    {
     "data": {
      "text/plain": [
       "'01111011'"
      ]
     },
     "execution_count": 8,
     "metadata": {},
     "output_type": "execute_result"
    }
   ],
   "source": [
    "np.binary_repr(123, width=8)"
   ]
  },
  {
   "cell_type": "code",
   "execution_count": 9,
   "metadata": {},
   "outputs": [],
   "source": [
    "def convert_to_storage_format(data: list, data_bit_length: int, storage_bit_length: int) -> np.array:\n",
    "    numbers_per_address = storage_bit_length / data_bit_length\n",
    "    \n",
    "    if not numbers_per_address.is_integer():\n",
    "        raise ValueError(\"Storage bit length not divisble by data bit length!\")\n",
    "    \n",
    "    storage_data = []\n",
    "    bit_string = \"\"\n",
    "    for index, number in enumerate(data):\n",
    "        bit_string += format(number, \"b\").zfill(data_bit_length)\n",
    "        \n",
    "        if (index+1) % numbers_per_address == 0:\n",
    "            storage_data.append(bit_string) # add the bit-string to the storage data\n",
    "            bit_string = \"\" # reset the bitstring\n",
    "            continue\n",
    "        \n",
    "        if len(data) == (index + 1) and len(bit_string) != storage_bit_length:\n",
    "            bit_string =bit_string.ljust(storage_bit_length, \"0\") # pad with zeroes to the right\n",
    "            storage_data.append(bit_string) # add the bit-string to the storage data\n",
    "            break\n",
    "            \n",
    "    return np.array(storage_data)"
   ]
  },
  {
   "cell_type": "code",
   "execution_count": 10,
   "metadata": {},
   "outputs": [
    {
     "data": {
      "text/plain": [
       "(785,)"
      ]
     },
     "execution_count": 10,
     "metadata": {},
     "output_type": "execute_result"
    }
   ],
   "source": [
    "# append a one at the start to include the bias multiplication (the inputs and weights are already reversed)\n",
    "test_input = np.append([1], inputs_list[42])\n",
    "test_input.shape"
   ]
  },
  {
   "cell_type": "code",
   "execution_count": 11,
   "metadata": {},
   "outputs": [
    {
     "data": {
      "text/plain": [
       "(197,)"
      ]
     },
     "execution_count": 11,
     "metadata": {},
     "output_type": "execute_result"
    }
   ],
   "source": [
    "input_storage_data = convert_to_storage_format(test_input, data_bit_length=3, storage_bit_length=12)\n",
    "input_storage_data.shape"
   ]
  },
  {
   "cell_type": "code",
   "execution_count": 12,
   "metadata": {},
   "outputs": [
    {
     "data": {
      "text/plain": [
       "(1970,)"
      ]
     },
     "execution_count": 12,
     "metadata": {},
     "output_type": "execute_result"
    }
   ],
   "source": [
    "weight_storage_data = []\n",
    "for weights in weights_list:\n",
    "    weight_storage_data.append(convert_to_storage_format(weights, data_bit_length=8, storage_bit_length=32))\n",
    "    \n",
    "weight_storage_data = np.ravel(np.array(weight_storage_data))\n",
    "weight_storage_data.shape"
   ]
  },
  {
   "cell_type": "markdown",
   "metadata": {},
   "source": [
    "### create the adresses for the weights"
   ]
  },
  {
   "cell_type": "code",
   "execution_count": 13,
   "metadata": {},
   "outputs": [],
   "source": [
    "COUNT_OUTPUT_NEURONS = 10\n",
    "COUNT_INPUT_MEMORY_ADRESSES = input_storage_data.shape[0]"
   ]
  },
  {
   "cell_type": "code",
   "execution_count": 21,
   "metadata": {},
   "outputs": [
    {
     "data": {
      "text/plain": [
       "array(['100111000100', '100111000011', '100111000010', ...,\n",
       "       '000000000010', '000000000001', '000000000000'], dtype='<U12')"
      ]
     },
     "execution_count": 21,
     "metadata": {},
     "output_type": "execute_result"
    }
   ],
   "source": [
    "NEURON_MEM_BIT_LENGTH = 4\n",
    "INPUT_ADR_BIT_LENGTH = 8\n",
    "\n",
    "weight_adresses = []\n",
    "\n",
    "for neuron in range(0, COUNT_OUTPUT_NEURONS):\n",
    "    for mem_adr in range(0, COUNT_INPUT_MEMORY_ADRESSES):\n",
    "        neuron_bits = format(neuron, \"b\").zfill(NEURON_MEM_BIT_LENGTH)\n",
    "        input_adr_bits = format(mem_adr, \"b\").zfill(INPUT_ADR_BIT_LENGTH)\n",
    "        weight_adresses.append(neuron_bits + input_adr_bits)\n",
    "\n",
    "weight_adresses = np.array(weight_adresses[::-1]) # reverse the adresses\n",
    "weight_adresses"
   ]
  },
  {
   "cell_type": "code",
   "execution_count": null,
   "metadata": {},
   "outputs": [],
   "source": [
    "with open(\"./weights_array_generation.txt\", mode=\"w+\") as file:\n",
    "\n",
    "    # check the array format\n",
    "    if not weight_adresses.shape[0] == weight_storage_data.shape[0]:\n",
    "        raise ValueError(\"Shape of weight adresses and the weights itself must be the same!\")\n",
    "\n",
    "    for i in range(0, weight_adresses.shape[0]):\n",
    "\n",
    "    "
   ]
  },
  {
   "cell_type": "markdown",
   "metadata": {},
   "source": [
    "### save the results"
   ]
  },
  {
   "cell_type": "code",
   "execution_count": 12,
   "metadata": {},
   "outputs": [],
   "source": [
    "np.savetxt(\"weights.txt\", weight_storage_data, delimiter=\"\\n\", fmt=\"%s\")"
   ]
  },
  {
   "cell_type": "code",
   "execution_count": 13,
   "metadata": {},
   "outputs": [],
   "source": [
    "np.savetxt(\"input.txt\", input_storage_data, fmt=\"%s\")"
   ]
  }
 ],
 "metadata": {
  "kernelspec": {
   "display_name": "Python 3.10.5 ('venv': venv)",
   "language": "python",
   "name": "python3"
  },
  "language_info": {
   "codemirror_mode": {
    "name": "ipython",
    "version": 3
   },
   "file_extension": ".py",
   "mimetype": "text/x-python",
   "name": "python",
   "nbconvert_exporter": "python",
   "pygments_lexer": "ipython3",
   "version": "3.10.5"
  },
  "orig_nbformat": 4,
  "vscode": {
   "interpreter": {
    "hash": "c2712bd78c53b1586f15cdcb5232bdef728a21941ed8f84c4f0c5a3c71b0f621"
   }
  }
 },
 "nbformat": 4,
 "nbformat_minor": 2
}
