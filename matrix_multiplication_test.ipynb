{
 "cells": [
  {
   "cell_type": "code",
   "execution_count": 1,
   "metadata": {},
   "outputs": [
    {
     "name": "stdout",
     "output_type": "stream",
     "text": [
      "[1 2 3 4 5 6 7 8 9]\n",
      "[[1 1 1]\n",
      " [2 2 2]\n",
      " [3 3 3]\n",
      " [4 4 4]\n",
      " [5 5 5]\n",
      " [6 6 6]\n",
      " [7 7 7]\n",
      " [8 8 8]\n",
      " [9 9 9]]\n",
      "[285 285 285]\n"
     ]
    }
   ],
   "source": [
    "import numpy as np\n",
    "\n",
    "input = np.array([i for i in range(1, 10)])\n",
    "\n",
    "weights = np.array([\n",
    "    [i for i in range(1, 10)],\n",
    "    [i for i in range(1, 10)],\n",
    "    [i for i in range(1, 10)],\n",
    "]).T\n",
    "\n",
    "print(input)\n",
    "print(weights)\n",
    "\n",
    "print(input.dot(weights))"
   ]
  },
  {
   "cell_type": "code",
   "execution_count": 2,
   "metadata": {},
   "outputs": [
    {
     "data": {
      "text/plain": [
       "['x1', 'x2', 'x3', 'x4', 'x5', 'x6', 'x7', 'x8', 'x9']"
      ]
     },
     "execution_count": 2,
     "metadata": {},
     "output_type": "execute_result"
    }
   ],
   "source": [
    "input = [f\"x{i}\" for i in range(9)]\n",
    "input"
   ]
  },
  {
   "cell_type": "code",
   "execution_count": 6,
   "metadata": {},
   "outputs": [
    {
     "data": {
      "text/plain": [
       "[['y0/0', 'y1/0', 'y2/0'],\n",
       " ['y0/1', 'y1/1', 'y2/1'],\n",
       " ['y0/2', 'y1/2', 'y2/2'],\n",
       " ['y0/3', 'y1/3', 'y2/3'],\n",
       " ['y0/4', 'y1/4', 'y2/4'],\n",
       " ['y0/5', 'y1/5', 'y2/5'],\n",
       " ['y0/6', 'y1/6', 'y2/6'],\n",
       " ['y0/7', 'y1/7', 'y2/7'],\n",
       " ['y0/8', 'y1/8', 'y2/8']]"
      ]
     },
     "execution_count": 6,
     "metadata": {},
     "output_type": "execute_result"
    }
   ],
   "source": [
    "weights = []\n",
    "\n",
    "for i in range(9):\n",
    "    row = [f\"y{j}/{i}\" for j in range(3)]\n",
    "    weights.append(row)\n",
    "\n",
    "weights"
   ]
  },
  {
   "cell_type": "code",
   "execution_count": 10,
   "metadata": {},
   "outputs": [],
   "source": [
    "MULTIPLIER_COUNT = 4"
   ]
  }
 ],
 "metadata": {
  "interpreter": {
   "hash": "d4e2439e369edf343feef131dea582a1722f24af563e21f8017a6c5468dbac35"
  },
  "kernelspec": {
   "display_name": "Python 3.9.7 ('venv': venv)",
   "language": "python",
   "name": "python3"
  },
  "language_info": {
   "codemirror_mode": {
    "name": "ipython",
    "version": 3
   },
   "file_extension": ".py",
   "mimetype": "text/x-python",
   "name": "python",
   "nbconvert_exporter": "python",
   "pygments_lexer": "ipython3",
   "version": "3.9.7"
  },
  "orig_nbformat": 4
 },
 "nbformat": 4,
 "nbformat_minor": 2
}
