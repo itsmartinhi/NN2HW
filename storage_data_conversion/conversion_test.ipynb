{
 "cells": [
  {
   "cell_type": "code",
   "execution_count": 2,
   "metadata": {},
   "outputs": [],
   "source": [
    "import json\n",
    "import numpy as np"
   ]
  },
  {
   "cell_type": "code",
   "execution_count": 4,
   "metadata": {},
   "outputs": [],
   "source": [
    "with open(\"../Software/nn/data.json\", 'r') as f:\n",
    "    data = json.load(f)"
   ]
  },
  {
   "cell_type": "code",
   "execution_count": 49,
   "metadata": {},
   "outputs": [
    {
     "data": {
      "text/plain": [
       "(10, 785)"
      ]
     },
     "execution_count": 49,
     "metadata": {},
     "output_type": "execute_result"
    }
   ],
   "source": [
    "weights_list = np.array(data.get(\"weights\")).T\n",
    "weights_list.shape"
   ]
  },
  {
   "cell_type": "code",
   "execution_count": 50,
   "metadata": {},
   "outputs": [
    {
     "data": {
      "text/plain": [
       "(10000, 784)"
      ]
     },
     "execution_count": 50,
     "metadata": {},
     "output_type": "execute_result"
    }
   ],
   "source": [
    "inputs_list = np.array(data.get(\"inputs\"))\n",
    "inputs_list.shape"
   ]
  },
  {
   "cell_type": "code",
   "execution_count": 27,
   "metadata": {},
   "outputs": [
    {
     "data": {
      "text/plain": [
       "'01111011'"
      ]
     },
     "execution_count": 27,
     "metadata": {},
     "output_type": "execute_result"
    }
   ],
   "source": [
    "format(123, \"b\").zfill(8)"
   ]
  },
  {
   "cell_type": "code",
   "execution_count": 28,
   "metadata": {},
   "outputs": [
    {
     "data": {
      "text/plain": [
       "'01111011'"
      ]
     },
     "execution_count": 28,
     "metadata": {},
     "output_type": "execute_result"
    }
   ],
   "source": [
    "np.binary_repr(123, width=8)"
   ]
  },
  {
   "cell_type": "code",
   "execution_count": 51,
   "metadata": {},
   "outputs": [],
   "source": [
    "def convert_to_storage_format(data: list, data_bit_length: int, storage_bit_length: int) -> np.array:\n",
    "    numbers_per_address = storage_bit_length / data_bit_length\n",
    "    \n",
    "    if not numbers_per_address.is_integer():\n",
    "        raise ValueError(\"Storage bit length not divisble by data bit length!\")\n",
    "    \n",
    "    storage_data = []\n",
    "    bit_string = \"\"\n",
    "    for index, number in enumerate(data):\n",
    "        bit_string += format(number, \"b\").zfill(data_bit_length)\n",
    "        \n",
    "        if (index+1) % numbers_per_address == 0:\n",
    "            storage_data.append(bit_string) # add the bit-string to the storage data\n",
    "            bit_string = \"\" # reset the bitstring\n",
    "            continue\n",
    "        \n",
    "        if len(data) == (index + 1) and len(bit_string) != storage_bit_length:\n",
    "            bit_string =bit_string.ljust(storage_bit_length, \"0\") # pad with zeroes to the right\n",
    "            storage_data.append(bit_string) # add the bit-string to the storage data\n",
    "            break\n",
    "            \n",
    "    return np.array(storage_data)"
   ]
  },
  {
   "cell_type": "code",
   "execution_count": 52,
   "metadata": {},
   "outputs": [
    {
     "data": {
      "text/plain": [
       "(785,)"
      ]
     },
     "execution_count": 52,
     "metadata": {},
     "output_type": "execute_result"
    }
   ],
   "source": [
    "test_input = np.append(inputs_list[42], 1) # append a one at the end to include the bias multiplication\n",
    "test_input.shape"
   ]
  },
  {
   "cell_type": "code",
   "execution_count": 80,
   "metadata": {},
   "outputs": [
    {
     "data": {
      "text/plain": [
       "(197,)"
      ]
     },
     "execution_count": 80,
     "metadata": {},
     "output_type": "execute_result"
    }
   ],
   "source": [
    "input_storage_data = convert_to_storage_format(test_input, data_bit_length=3, storage_bit_length=12)\n",
    "input_storage_data.shape"
   ]
  },
  {
   "cell_type": "code",
   "execution_count": 65,
   "metadata": {},
   "outputs": [
    {
     "data": {
      "text/plain": [
       "(1970,)"
      ]
     },
     "execution_count": 65,
     "metadata": {},
     "output_type": "execute_result"
    }
   ],
   "source": [
    "weight_storage_data = []\n",
    "for weights in weights_list:\n",
    "    weight_storage_data.append(convert_to_storage_format(weights, data_bit_length=8, storage_bit_length=32))\n",
    "    \n",
    "weight_storage_data = np.ravel(np.array(weight_storage_data))\n",
    "weight_storage_data.shape"
   ]
  },
  {
   "cell_type": "code",
   "execution_count": 78,
   "metadata": {},
   "outputs": [],
   "source": [
    "np.savetxt(\"weights.txt\", weight_storage_data, delimiter=\"\\n\", fmt=\"%s\")"
   ]
  },
  {
   "cell_type": "code",
   "execution_count": 81,
   "metadata": {},
   "outputs": [],
   "source": [
    "np.savetxt(\"input.txt\", input_storage_data, fmt=\"%s\")"
   ]
  }
 ],
 "metadata": {
  "kernelspec": {
   "display_name": "Python 3.10.4 ('venv': venv)",
   "language": "python",
   "name": "python3"
  },
  "language_info": {
   "codemirror_mode": {
    "name": "ipython",
    "version": 3
   },
   "file_extension": ".py",
   "mimetype": "text/x-python",
   "name": "python",
   "nbconvert_exporter": "python",
   "pygments_lexer": "ipython3",
   "version": "3.10.4"
  },
  "orig_nbformat": 4,
  "vscode": {
   "interpreter": {
    "hash": "e3a24743610223e03b77f36b95c948ed057bd02296c94ad8418a128de92a51aa"
   }
  }
 },
 "nbformat": 4,
 "nbformat_minor": 2
}
